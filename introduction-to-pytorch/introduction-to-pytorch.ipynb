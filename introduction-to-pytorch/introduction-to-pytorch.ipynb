{
 "cells": [
  {
   "cell_type": "markdown",
   "id": "60854645",
   "metadata": {},
   "source": [
    "# 1. Introduction "
   ]
  },
  {
   "cell_type": "markdown",
   "id": "f7ac5dac",
   "metadata": {},
   "source": [
    "\n",
    "## Pytorch \n",
    "is commonly known as Deep Learning Library. But, it could be a scientific library that use the power of GPUs."
   ]
  },
  {
   "cell_type": "markdown",
   "id": "42efffa1",
   "metadata": {},
   "source": [
    "# 2. Basics"
   ]
  },
  {
   "cell_type": "markdown",
   "id": "9a3570ab",
   "metadata": {},
   "source": [
    "## 2.1 Matrices "
   ]
  },
  {
   "cell_type": "markdown",
   "id": "b73d7bdd",
   "metadata": {},
   "source": [
    "* In numpy or other programming language, we call a matrix or array to represent multi-dimentional data. But in Pytorch we simply call them <b>Tensors</b>"
   ]
  },
  {
   "cell_type": "code",
   "execution_count": 1,
   "id": "f7806e09",
   "metadata": {},
   "outputs": [
    {
     "name": "stdout",
     "output_type": "stream",
     "text": [
      "Array Type: <class 'numpy.ndarray'>\n",
      "Array shape: (2, 3)\n",
      "[[1 2 3]\n",
      " [4 5 6]]\n"
     ]
    }
   ],
   "source": [
    "import numpy as np # import numpy \n",
    "\n",
    "arr = [[1,2,3],[4,5,6]]\n",
    "np_arr = np.array(arr)\n",
    "print(\"Array Type: {}\".format(type(np_arr))) #type \n",
    "print(\"Array shape: {}\".format(np.shape(np_arr))) #shape\n",
    "print(np_arr)"
   ]
  },
  {
   "cell_type": "markdown",
   "id": "5059dd08",
   "metadata": {},
   "source": [
    "* We created numpy array with np.array() method \n",
    "* Type() is a function to know the variable type in python\n",
    "* np.shape() is a function to know the shape of a numpy array "
   ]
  },
  {
   "cell_type": "code",
   "execution_count": 2,
   "id": "42190bbf",
   "metadata": {},
   "outputs": [
    {
     "name": "stdout",
     "output_type": "stream",
     "text": [
      "Array Type: <built-in method type of Tensor object at 0x7f1d9f62d240>\n",
      "Array Shape: torch.Size([2, 3])\n",
      "tensor([[1., 2., 3.],\n",
      "        [4., 5., 6.]])\n"
     ]
    }
   ],
   "source": [
    "import torch # import pytorch\n",
    "\n",
    "tens = torch.Tensor(arr)\n",
    "print(\"Array Type: {}\".format(tens.type)) #type\n",
    "print(\"Array Shape: {}\".format(tens.shape)) #shape\n",
    "print(tens)"
   ]
  },
  {
   "cell_type": "markdown",
   "id": "f2054272",
   "metadata": {},
   "source": [
    "<b>We saw the different how to make array in numpy and pytorch</b>\n",
    "* in Pytorch we use torch.Tensor() to create an array\n",
    "* in Pytorch, tensor has a \"shape\" property shows the shape of the tensor"
   ]
  },
  {
   "cell_type": "code",
   "execution_count": 3,
   "id": "b1606b4a",
   "metadata": {},
   "outputs": [
    {
     "name": "stdout",
     "output_type": "stream",
     "text": [
      "Numpy random array: \n",
      " [[0.86005853 0.30428379 0.9943963 ]\n",
      " [0.64913646 0.77740985 0.05813002]]\n",
      "\n",
      "Pytorch random tensor: \n",
      "tensor([[0.4404, 0.5932, 0.4258],\n",
      "        [0.1478, 0.5191, 0.2552]])\n"
     ]
    }
   ],
   "source": [
    "# numpy random\n",
    "print(\"Numpy random array: \\n {}\\n\".format(np.random.rand(2,3)))\n",
    "\n",
    "# pytorch random\n",
    "print(\"Pytorch random tensor: \")\n",
    "print(torch.rand(2,3))"
   ]
  },
  {
   "cell_type": "markdown",
   "id": "be49f42c",
   "metadata": {},
   "source": [
    "<b>Numpy is quite mature library, it has lots of function on creating and manipulating array. But pytorch also catch up and try to adopt the habits of numpy/python developer.</b>\n",
    "\n"
   ]
  },
  {
   "cell_type": "code",
   "execution_count": 4,
   "id": "ab2434b7",
   "metadata": {},
   "outputs": [
    {
     "name": "stdout",
     "output_type": "stream",
     "text": [
      "<class 'numpy.ndarray'> [[0.56038992 0.55310796 0.91515807]\n",
      " [0.7637029  0.42926381 0.57868473]]\n",
      "\n",
      "tensor([[0.5604, 0.5531, 0.9152],\n",
      "        [0.7637, 0.4293, 0.5787]], dtype=torch.float64)\n",
      "\n"
     ]
    }
   ],
   "source": [
    "# create random numpy array \n",
    "arr = np.random.rand(2,3)\n",
    "print(\"{} {}\\n\".format(type(arr),arr))\n",
    "# from numpy to tensor\n",
    "from_numpy_to_tensor = torch.from_numpy(arr)\n",
    "print(\"{}\\n\".format(from_numpy_to_tensor))"
   ]
  },
  {
   "cell_type": "markdown",
   "id": "622d4efb",
   "metadata": {},
   "source": [
    "* first, we create random array numpy \n",
    "* we convert numpy array into tensor by using torch.from_numpy() function "
   ]
  },
  {
   "cell_type": "code",
   "execution_count": 5,
   "id": "f021d6d2",
   "metadata": {},
   "outputs": [
    {
     "name": "stdout",
     "output_type": "stream",
     "text": [
      "<class 'numpy.ndarray'> [[0.56038992 0.55310796 0.91515807]\n",
      " [0.7637029  0.42926381 0.57868473]]\n",
      "\n"
     ]
    }
   ],
   "source": [
    "tens = from_numpy_to_tensor\n",
    "from_tensor_to_numpy = tens.numpy()\n",
    "print(\"{} {}\\n\".format(type(from_tensor_to_numpy),from_tensor_to_numpy))"
   ]
  },
  {
   "cell_type": "markdown",
   "id": "aa0d3de9",
   "metadata": {},
   "source": [
    "* Tensor has a function named .numpy() to convert tensor into numpy array"
   ]
  },
  {
   "cell_type": "markdown",
   "id": "36a94d24",
   "metadata": {},
   "source": [
    "## 2.2 Basic Math"
   ]
  },
  {
   "cell_type": "markdown",
   "id": "f28b7227",
   "metadata": {},
   "source": [
    "* Resize: view()\n",
    "* a and b are tensor.\n",
    "* Addition: torch.add(a,b) = a + b\n",
    "* Subtraction: a.sub(b) = a - b\n",
    "* Element wise multiplication: torch.mul(a,b) = a * b\n",
    "* Element wise division: torch.div(a,b) = a / b\n",
    "* Mean: a.mean()\n",
    "* Standart Deviation (std): a.std()"
   ]
  },
  {
   "cell_type": "code",
   "execution_count": 6,
   "id": "06022e9e",
   "metadata": {},
   "outputs": [
    {
     "name": "stdout",
     "output_type": "stream",
     "text": [
      "Create a tensor with all 1s : \n",
      " tensor([[1., 1., 1.],\n",
      "        [1., 1., 1.],\n",
      "        [1., 1., 1.]])\n",
      "\n",
      " Reshape the tensor: \n",
      " torch.Size([9]) \n",
      " tensor([1., 1., 1., 1., 1., 1., 1., 1., 1.])\n",
      "\n",
      "Addition: tensor([[2., 2., 2.],\n",
      "        [2., 2., 2.],\n",
      "        [2., 2., 2.]])\n",
      "\n",
      "Subtraction: tensor([[0., 0., 0.],\n",
      "        [0., 0., 0.],\n",
      "        [0., 0., 0.]])\n",
      "\n",
      "Element wise multiplication: tensor([[1., 1., 1.],\n",
      "        [1., 1., 1.],\n",
      "        [1., 1., 1.]])\n",
      "\n",
      "Element wise division: tensor([[1., 1., 1.],\n",
      "        [1., 1., 1.],\n",
      "        [1., 1., 1.]])\n",
      "\n",
      "Mean: 3.0\n",
      "std: 1.5811388492584229\n"
     ]
    }
   ],
   "source": [
    "# create tensor \n",
    "tensor = torch.ones(3,3)\n",
    "print(\"Create a tensor with all 1s : \\n\",tensor)\n",
    "\n",
    "# Resize\n",
    "print(\"\\n Reshape the tensor: \\n {} \\n {}\\n\".format(tensor.view(9).shape,tensor.view(9)))\n",
    "\n",
    "# Addition\n",
    "print(\"Addition: {}\\n\".format(torch.add(tensor,tensor)))\n",
    "\n",
    "# Subtraction\n",
    "print(\"Subtraction: {}\\n\".format(tensor.sub(tensor)))\n",
    "\n",
    "# Element wise multiplication\n",
    "print(\"Element wise multiplication: {}\\n\".format(torch.mul(tensor,tensor)))\n",
    "\n",
    "# Element wise division\n",
    "print(\"Element wise division: {}\\n\".format(torch.div(tensor,tensor)))\n",
    "\n",
    "# Mean\n",
    "tensor = torch.Tensor([1,2,3,4,5])\n",
    "print(\"Mean: {}\".format(tensor.mean()))\n",
    "\n",
    "# Standart deviation (std)\n",
    "print(\"std: {}\".format(tensor.std()))"
   ]
  },
  {
   "cell_type": "markdown",
   "id": "7455a522",
   "metadata": {},
   "source": [
    "## 2.3 Variables"
   ]
  },
  {
   "cell_type": "markdown",
   "id": "ad135210",
   "metadata": {},
   "source": [
    "* It accumulates gradients.\n",
    "* Pytorch mostly used in neural network. \n",
    "<b>In neural network we need to calculate the gradient for each weight.</b> \n",
    "Therefore we need to handle gradients. \n",
    "\n",
    "* Difference between variables and tensor is variable accumulates gradients.\n",
    "* We can make math operations with variables, too.\n",
    "* In order to make backward propagation we need variables"
   ]
  },
  {
   "cell_type": "code",
   "execution_count": 7,
   "id": "0ee572af",
   "metadata": {},
   "outputs": [
    {
     "name": "stdout",
     "output_type": "stream",
     "text": [
      "<class 'torch.Tensor'>\n",
      "tensor([1., 1., 1.], requires_grad=True)\n"
     ]
    }
   ],
   "source": [
    "# import variable from pytorch library\n",
    "from torch.autograd import Variable\n",
    "\n",
    "# define variable\n",
    "var = Variable(torch.ones(3), requires_grad = True)\n",
    "print(type(var))\n",
    "print(var)"
   ]
  },
  {
   "cell_type": "markdown",
   "id": "974ad639",
   "metadata": {},
   "source": [
    "* Assume we have equation y = 2 x^2\n",
    "* Define x = [[1,1],[1,1]] variable\n",
    "* After calculation we find that y = [[9,9],[9,9]] (y = 2 x^2)\n",
    "* Recap o equation is that o = (1/4)sum(y) = (1/4)sum(2 * x^2)\n",
    "* derivative of o = x\n",
    "* Result is equal to x so gradients are [[3,3],[3,3]]\n",
    "* Lets implement"
   ]
  },
  {
   "cell_type": "code",
   "execution_count": 8,
   "id": "70e4d7da",
   "metadata": {},
   "outputs": [
    {
     "name": "stdout",
     "output_type": "stream",
     "text": [
      " y =   tensor([[2., 2.],\n",
      "        [2., 2.]], grad_fn=<MulBackward0>)\n"
     ]
    }
   ],
   "source": [
    "# lets make basic backward propagation\n",
    "# we have an equation that is y = 2 x^2\n",
    "array = [[1,1],[1,1]]\n",
    "tensor = torch.Tensor(array)\n",
    "#x = Variable(torch.ones(2, 2), requires_grad=True)\n",
    "x = Variable(tensor, requires_grad = True) \n",
    "y = x * x * 2\n",
    "print(\" y =  \",y)\n"
   ]
  },
  {
   "cell_type": "code",
   "execution_count": 11,
   "id": "186dcda7",
   "metadata": {},
   "outputs": [
    {
     "name": "stdout",
     "output_type": "stream",
     "text": [
      " o =   tensor(2., grad_fn=<MeanBackward0>)\n"
     ]
    }
   ],
   "source": [
    "# recap o equation o = 1/4*sum(y)\n",
    "o = y.mean()\n",
    "#o = (1/4)*sum(y)\n",
    "print(\" o =  \",o)"
   ]
  },
  {
   "cell_type": "code",
   "execution_count": 12,
   "id": "992963e5",
   "metadata": {},
   "outputs": [
    {
     "name": "stdout",
     "output_type": "stream",
     "text": [
      "tensor([[1., 1.],\n",
      "        [1., 1.]])\n"
     ]
    }
   ],
   "source": [
    "# backward\n",
    "o.backward() # calculates gradients\n",
    "\n",
    "# As I defined, variables accumulates gradients. In this part there is only one variable x.\n",
    "# Therefore variable x should be have gradients\n",
    "# Lets look at gradients with x.grad\n",
    "print(x.grad)"
   ]
  },
  {
   "cell_type": "markdown",
   "id": "5f54191c",
   "metadata": {},
   "source": [
    "\\begin{split}\n",
    "\\frac{\\partial out}{\\partial x_i} & = \\frac{1}{4} \\sum_j \\frac{\\partial z_j}{\\partial x_i} \\\\\n",
    "& = \\frac{1}{4} \\sum_j \\frac{\\partial 2 y_j^2}{\\partial x_i} \\\\\n",
    "& = \\frac{1}{4} \\sum_j 4 y_j \\frac{\\partial y_j }{\\partial x_i} \\\\\n",
    "& = \\sum_j  (x_j) \\frac{\\partial (x_j) }{\\partial x_i} \\\\\n",
    "& = x_i \\quad \\quad  & \\frac{\\partial x_j }{\\partial x_i} = 0 \\text{ if } i \\neq j \\\\\n",
    "& = 1 \\quad \\quad  & \\text{ for } x_i=1\\\\\n",
    "\\end{split}"
   ]
  },
  {
   "cell_type": "markdown",
   "id": "94e7863b",
   "metadata": {},
   "source": [
    "## 2.4. Linear Regression"
   ]
  },
  {
   "cell_type": "markdown",
   "id": "378388a0",
   "metadata": {},
   "source": [
    "* y = Ax + B.\n",
    "    * A = slope of curve\n",
    "    * B = bias (point that intersect y-axis)\n",
    "* For example, we have car company. If the car price is low, we sell more car. If the car price is high, we sell less car. This is the fact that we know and we have data set about this fact.\n",
    "* The question is that what will be number of car sell if the car price is 100."
   ]
  },
  {
   "cell_type": "code",
   "execution_count": 16,
   "id": "4d3a804c",
   "metadata": {},
   "outputs": [],
   "source": [
    "# As a car company we collect this data from previous selling\n",
    "# lets define car prices\n",
    "car_prices_array = [3,4,5,6,7,8,9]\n",
    "car_price_np = np.array(car_prices_array,dtype=np.float32)\n",
    "car_price_np = car_price_np.reshape(-1,1)\n",
    "car_price_tensor = Variable(torch.from_numpy(car_price_np))\n",
    "\n",
    "# lets define number of car sell\n",
    "number_of_car_sell_array = [ 7.5, 7, 6.5, 6.0, 5.5, 5.0, 4.5]\n",
    "number_of_car_sell_np = np.array(number_of_car_sell_array,dtype=np.float32)\n",
    "number_of_car_sell_np = number_of_car_sell_np.reshape(-1,1)\n",
    "number_of_car_sell_tensor = Variable(torch.from_numpy(number_of_car_sell_np))"
   ]
  },
  {
   "cell_type": "markdown",
   "id": "5438e815",
   "metadata": {},
   "source": [
    "<b>Visualize the data</b>"
   ]
  },
  {
   "cell_type": "code",
   "execution_count": 17,
   "id": "8fffa648",
   "metadata": {},
   "outputs": [
    {
     "data": {
      "image/png": "[encoded data removed]",
      "text/plain": [
       "<Figure size 432x288 with 1 Axes>"
      ]
     },
     "metadata": {
      "needs_background": "light"
     },
     "output_type": "display_data"
    }
   ],
   "source": [
    "# lets visualize our data\n",
    "import matplotlib.pyplot as plt\n",
    "plt.scatter(car_prices_array,number_of_car_sell_array)\n",
    "plt.xlabel(\"Car Price $\")\n",
    "plt.ylabel(\"Number of Car Sell\")\n",
    "plt.title(\"Car Price$ VS Number of Car Sell\")\n",
    "plt.show()"
   ]
  },
  {
   "cell_type": "markdown",
   "id": "7ea83805",
   "metadata": {},
   "source": [
    "* We have a question that is <b>what will be number of car sell if the car price is 100$</b>\n",
    "* In order to solve this question we need to use <b>linear regression.</b>\n",
    "* We need to line fit into this data. Aim is fitting line with minimum error.\n",
    "* Steps of Linear Regression\n",
    "    1. create LinearRegression class\n",
    "    2. define model from this LinearRegression class\n",
    "    3. MSE: Mean squared error\n",
    "    4. Optimization (SGD:stochastic gradient descent)\n",
    "    5. Backpropagation\n",
    "    6. Prediction\n",
    "* Lets implement it with Pytorch"
   ]
  },
  {
   "cell_type": "code",
   "execution_count": 19,
   "id": "d6915d0e",
   "metadata": {},
   "outputs": [],
   "source": [
    "# Linear Regression with Pytorch\n",
    "\n",
    "# libraries\n",
    "import torch      \n",
    "from torch.autograd import Variable     \n",
    "import torch.nn as nn \n",
    "import warnings\n",
    "warnings.filterwarnings(\"ignore\")"
   ]
  },
  {
   "cell_type": "code",
   "execution_count": 20,
   "id": "db8d13e7",
   "metadata": {},
   "outputs": [],
   "source": [
    "# create class\n",
    "class LinearRegression(nn.Module):\n",
    "    def __init__(self,input_size,output_size):\n",
    "        # super function. It inherits from nn.Module and we can access everythink in nn.Module\n",
    "        super(LinearRegression,self).__init__()\n",
    "        # Linear function.\n",
    "        self.linear = nn.Linear(input_dim,output_dim)\n",
    "\n",
    "    def forward(self,x):\n",
    "        return self.linear(x)"
   ]
  },
  {
   "cell_type": "code",
   "execution_count": 22,
   "id": "33430da5",
   "metadata": {},
   "outputs": [],
   "source": [
    "# define model\n",
    "input_dim = 1\n",
    "output_dim = 1\n",
    "model = LinearRegression(input_dim,output_dim) # input and output size are 1\n",
    "\n",
    "# MSE\n",
    "mse = nn.MSELoss()\n",
    "# Optimization (find parameters that minimize error)\n",
    "learning_rate = 0.02   # how fast we reach best parameters\n",
    "optimizer = torch.optim.SGD(model.parameters(),lr = learning_rate)"
   ]
  },
  {
   "cell_type": "code",
   "execution_count": 23,
   "id": "9a64dfeb",
   "metadata": {},
   "outputs": [
    {
     "name": "stdout",
     "output_type": "stream",
     "text": [
      "epoch 0, loss 22.48154640197754\n",
      "epoch 50, loss 5.824771881103516\n",
      "epoch 100, loss 3.9360413551330566\n",
      "epoch 150, loss 2.659747362136841\n",
      "epoch 200, loss 1.7973026037216187\n",
      "epoch 250, loss 1.214512825012207\n",
      "epoch 300, loss 0.8206967711448669\n",
      "epoch 350, loss 0.5545790791511536\n",
      "epoch 400, loss 0.3747527301311493\n",
      "epoch 450, loss 0.2532358169555664\n",
      "epoch 500, loss 0.17112192511558533\n",
      "epoch 550, loss 0.11563421040773392\n",
      "epoch 600, loss 0.07813936471939087\n",
      "epoch 650, loss 0.052802328020334244\n",
      "epoch 700, loss 0.03568091243505478\n",
      "epoch 750, loss 0.024111179634928703\n",
      "epoch 800, loss 0.016292711719870567\n",
      "epoch 850, loss 0.011009693145751953\n",
      "epoch 900, loss 0.007439746521413326\n",
      "epoch 950, loss 0.005027403123676777\n",
      "epoch 1000, loss 0.0033972386736422777\n"
     ]
    }
   ],
   "source": [
    "# train model\n",
    "loss_list = []\n",
    "iteration_number = 1001\n",
    "for iteration in range(iteration_number):\n",
    "        \n",
    "    # optimization\n",
    "    optimizer.zero_grad() \n",
    "    \n",
    "    # Forward to get output\n",
    "    results = model(car_price_tensor)\n",
    "    \n",
    "    # Calculate Loss\n",
    "    loss = mse(results, number_of_car_sell_tensor)\n",
    "    \n",
    "    # backward propagation\n",
    "    loss.backward()\n",
    "    \n",
    "    # Updating parameters\n",
    "    optimizer.step()\n",
    "    \n",
    "    # store loss\n",
    "    loss_list.append(loss.data)\n",
    "    \n",
    "    # print loss\n",
    "    if(iteration % 50 == 0):\n",
    "        print('epoch {}, loss {}'.format(iteration, loss.data))\n"
   ]
  },
  {
   "cell_type": "code",
   "execution_count": 24,
   "id": "73cd613e",
   "metadata": {},
   "outputs": [
    {
     "data": {
      "image/png": "[encoded data removed]",
      "text/plain": [
       "<Figure size 432x288 with 1 Axes>"
      ]
     },
     "metadata": {
      "needs_background": "light"
     },
     "output_type": "display_data"
    }
   ],
   "source": [
    "plt.plot(range(iteration_number),loss_list)\n",
    "plt.xlabel(\"Number of Iterations\")\n",
    "plt.ylabel(\"Loss\")\n",
    "plt.show()"
   ]
  },
  {
   "cell_type": "markdown",
   "id": "3e9c2a02",
   "metadata": {},
   "source": [
    "* Number of iteration is 1001.\n",
    "* Loss is almost zero that you can see from plot or loss in epoch number 1000.\n",
    "* Now we have a trained model.\n",
    "* While usign trained model, lets predict car prices."
   ]
  },
  {
   "cell_type": "code",
   "execution_count": 26,
   "id": "98704062",
   "metadata": {},
   "outputs": [
    {
     "data": {
      "image/png": "[encoded data removed]",
      "text/plain": [
       "<Figure size 432x288 with 1 Axes>"
      ]
     },
     "metadata": {
      "needs_background": "light"
     },
     "output_type": "display_data"
    }
   ],
   "source": [
    "# predict our car price \n",
    "predicted = model(car_price_tensor).data.numpy()\n",
    "plt.scatter(car_prices_array,number_of_car_sell_array,label = \"original data\",color =\"red\")\n",
    "plt.scatter(car_prices_array,predicted,label = \"predicted data\",color =\"blue\")\n",
    "\n",
    "# predict if car price is 10$, what will be the number of car sell\n",
    "#predicted_10 = model(torch.from_numpy(np.array([10]))).data.numpy()\n",
    "#plt.scatter(10,predicted_10.data,label = \"car price 10$\",color =\"green\")\n",
    "plt.legend()\n",
    "plt.xlabel(\"Car Price $\")\n",
    "plt.ylabel(\"Number of Car Sell\")\n",
    "plt.title(\"Original vs Predicted values\")\n",
    "plt.show()"
   ]
  },
  {
   "cell_type": "code",
   "execution_count": null,
   "id": "1708a4e8",
   "metadata": {},
   "outputs": [],
   "source": []
  }
 ],
 "metadata": {
  "kernelspec": {
   "display_name": "newml",
   "language": "python",
   "name": "newml"
  },
  "language_info": {
   "codemirror_mode": {
    "name": "ipython",
    "version": 3
   },
   "file_extension": ".py",
   "mimetype": "text/x-python",
   "name": "python",
   "nbconvert_exporter": "python",
   "pygments_lexer": "ipython3",
   "version": "3.8.8"
  }
 },
 "nbformat": 4,
 "nbformat_minor": 5
}
